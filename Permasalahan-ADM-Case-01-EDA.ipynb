{
 "cells": [
  {
   "cell_type": "markdown",
   "id": "a6835ef2",
   "metadata": {},
   "source": [
    "<center><h2><strong><font color=\"blue\">Study Case 01 - Data Mining dan Business Intelligence: EDA pada data property</font></strong></h2></center>\n",
    "\n",
    "<img alt=\"\" src=\"images/Ray-pink-Property-Case-Banner.jpg\"/>"
   ]
  },
  {
   "cell_type": "markdown",
   "id": "8cbd8d70",
   "metadata": {},
   "source": [
    "# Kasus:\n",
    "\n",
    "* Anda adalah seorang Data Analyst yang bekerja di PT **Ray Pink Property Indonesia** (RPPI).\n",
    "* RPPI adalah perusahaan property yang berdiri sejak 11 tahun yang lalu.\n",
    "* RPPI memliki kantor cabang di 7 propinsi di Indonesia dan jumlahnya terus bertambah.\n",
    "* Valuasi RPPI tahun ini mencapai Rp 7 Trilyun, meningkat 7% dari tahun sebelumnya.\n",
    "* Bidang usaha RPPI adalah investasi dan jual-beli property secara umum, termasuk bekerja sama dengan developer perumahan.\n",
    "* Data Engineer (DE)/Database Administrator (DBA) RPPI berhasil mengumpulkan data rumah-rumah yang dijual di beberapa kota di Indonesia.\n",
    "* Sebagai Data Analyst anda akan hadir dan melakukan presentasi pada rapat direksi untuk memberikan insight dari data ke upper management (C-Level, senior managers, dan komisaris perusahaan).\n",
    "* Di studi kasus ini anda mempersiapkan \"bahan presentasi\" dengan cara melakukan EDA pada data yang diterima dari DE/DBA."
   ]
  },
  {
   "cell_type": "markdown",
   "id": "0c3cb380",
   "metadata": {},
   "source": [
    "# Petunjuk:\n",
    "\n",
    "Di studi kasus pertama, anda mendapat bantuan keterangan dari manajemen. Setelah berdiskusi *over lunch* dengan beberapa manager senior, anda mendengar bahwa mereka ingin mengetahui:\n",
    "\n",
    "1. Kualitas data yang dimiliki perusahaan.\n",
    "2. Apakah ada saran perbaikan data ke DE/DBA perusahaan agar RPPI menjadi *data driven company* yang unggul.\n",
    "3. Dari data yang ada, apakah ada kecenderungan rumah disuatu kota lebih mahal/murah dibandingkan kota lain?\n",
    "4. Dari data yang ada, apakah bisa dibuat rekomendasi sebaiknya RPPI membuat kantor cabang berikutnya di kota mana? Mengapa? (Asumsikan RPPI belum memiliki cabang di kota-kota yang disebutkan di data).\n",
    "5. Rumah dengan karakteristik seperti apa yang paling banyak dijual?\n",
    "6. Jika RPPI ingin melakukan investasi (max) Rp. 25 Milyar minggu besok, apakah dari data anda dapat memberikan rekomendasi rumah mana saja yang akan berpotensi menghasilkan keuntungan bagi perusahaan?\n",
    "7. Dan yang terpenting, informasi berharga apa lagi yang bisa anda dapatkan dari data?"
   ]
  },
  {
   "cell_type": "markdown",
   "id": "691c8ffc",
   "metadata": {},
   "source": [
    "# Catatan:\n",
    "\n",
    "* Anda diperbolehkan melakukan augmentasi data (menambah data eksternal).\n",
    "* Yakinkan menuliskan asumsi anda atas kesimpulan dan rekomendasi yang diberikan ke perusahaan.\n",
    "* Yakinkan kesimpulan dan rekomendasi ditujukan ke perusahaan (bukan dosen mata kuliah).\n",
    "* Anda boleh menggunakan software visualisasi apapun, misal excel, Ms Word, Photoshop, dsb.\n",
    "* Yakinkan file images dapat dibuka (nampak) saat ipynb di Jupyter notebook anda dibuka di Google Colab.\n",
    " - Tips: hati-hati dalam melakukan penamaan file, Google colab case sensitive.\n",
    "* Interpretasi diberikan menggunakan cell markdown tepat dibawah output code yang relevan diatasnya.\n",
    "* Anda tidak diperkenankan bertanya pertanyaan yang:\n",
    " - Merupakan jawaban atau menjurus ke jawaban studi kasus.\n",
    " - Debugging - code error (anda diharapkan melakukan code troubleshooting sendiri via mesin pencari)\n",
    "* Pada studi kasus ini anda hanya diperkenankan untuk melakukan EDA (bukan modeling seperti prediksi/forecasting)"
   ]
  },
  {
   "cell_type": "markdown",
   "id": "848a2096",
   "metadata": {},
   "source": [
    "# Komponen Penilaian:\n",
    "\n",
    "* Code tidak diubah sejak deadline studi kasus.\n",
    "* Code dapat di \"Run-All\" di Google Colab oleh dosen tanpa error.\n",
    "* Pemilihan preprocessing dan visualisasi yang tepat\n",
    "* Interpretasi dan rekomendasi dengan narasi dan kualitas yang baik, serta berdasarkan atas (pengolahan) data.\n",
    "* Kreativitas dan inovasi pengolahan data dan penyajian visualisasi."
   ]
  },
  {
   "cell_type": "markdown",
   "id": "e5a333c7",
   "metadata": {},
   "source": [
    "# Data Understanding (DU):\n",
    "\n",
    "Keterangan Varabel:\n",
    "* Created_at: Tanggal dimana iklan rumah dibuat\n",
    "* LT\t\t: Luas Tanah properti yang ditawarkan\n",
    "* LB\t\t: Luas Bangunan properti yang ditawarkan\n",
    "* KT\t\t: Jumlah Kamar Tidur properti yang ditawarkan\n",
    "* KM\t\t: Jumlah Kamar Mandi properti yang ditawarkan\n",
    "* Garasi\t: Jumlah Kapasitas Garasi di properti yang ditawarkan\n",
    "* Carport\t: Jumlah kapasitas Carport di properti yang ditawarkan\n",
    "* Lokasi\t: Detail lokasi properti yang ditawarkan\n",
    "* Sertifikat: Jenis sertifikat properti yang ditawarkan\n",
    "* Listrik\t: Daya listrik dari properti yang ditawarkan\n",
    "* Hadap\t\t: Keterangan property yang ditawarkan menghadap ke arah mana\n",
    "* Harga \t: Harga property yang ditawarkan dalam Rupiah\n",
    "* URL\t\t: Alamat tautan (link) property yang ditawarkan.\n",
    "* Deskripsi\t: Deskripsi iklan property yang ditawarkan. "
   ]
  },
  {
   "cell_type": "code",
   "execution_count": 1,
   "id": "ddd7f934",
   "metadata": {},
   "outputs": [
    {
     "data": {
      "text/plain": [
       "((1024, 26), (998, 26), (999, 26), (128, 26), (992, 26))"
      ]
     },
     "execution_count": 1,
     "metadata": {},
     "output_type": "execute_result"
    }
   ],
   "source": [
    "# Loading Data:\n",
    "import pandas as pd\n",
    "\n",
    "try: # Running Locally, yakinkan \"file_\" berada di folder \"data\"\n",
    "    dfJ = pd.read_csv(\"data/jakarta.csv\", low_memory = False, encoding='utf8')\n",
    "    dfD = pd.read_csv(\"data/depok.csv\", low_memory = False, encoding='utf8')\n",
    "    dfB = pd.read_csv(\"data/bogor.csv\", low_memory = False, encoding='utf8')\n",
    "    dfT = pd.read_csv(\"data/tangerang.csv\", low_memory = False, encoding='utf8')\n",
    "    dfX = pd.read_csv(\"data/bekasi.csv\", low_memory = False, encoding='utf8')    \n",
    "except: # Running in Google Colab\n",
    "    !mkdir data\n",
    "    !wget -P data/ https://raw.githubusercontent.com/taufiksutanto/ADM-Case-01-EDA/master/data/jakarta.csv\n",
    "    !wget -P data/ https://raw.githubusercontent.com/taufiksutanto/ADM-Case-01-EDA/master/data/depok.csv\n",
    "    !wget -P data/ https://raw.githubusercontent.com/taufiksutanto/ADM-Case-01-EDA/master/data/bogor.csv\n",
    "    !wget -P data/ https://raw.githubusercontent.com/taufiksutanto/ADM-Case-01-EDA/master/data/tangerang.csv\n",
    "    !wget -P data/ https://raw.githubusercontent.com/taufiksutanto/ADM-Case-01-EDA/master/data/bekasi.csv\n",
    "    dfJ = pd.read_csv(\"data/jakarta.csv\", low_memory = False, encoding='utf8')\n",
    "    dfD = pd.read_csv(\"data/depok.csv\", low_memory = False, encoding='utf8')\n",
    "    dfB = pd.read_csv(\"data/bogor.csv\", low_memory = False, encoding='utf8')\n",
    "    dfT = pd.read_csv(\"data/tangerang.csv\", low_memory = False, encoding='utf8')\n",
    "    dfX = pd.read_csv(\"data/bekasi.csv\", low_memory = False, encoding='utf8')\n",
    "    \n",
    "dfJ.shape, dfD.shape, dfB.shape, dfT.shape, dfX.shape"
   ]
  },
  {
   "cell_type": "markdown",
   "id": "a3faa63a",
   "metadata": {},
   "source": [
    "# Preprocessing"
   ]
  },
  {
   "cell_type": "code",
   "execution_count": 2,
   "id": "ebc84170",
   "metadata": {},
   "outputs": [],
   "source": [
    "dfD.drop(dfD.columns[[14,15,16,17,18,19,20,21,22,23,24,25]],axis = 1,inplace=True)\n",
    "dfJ.drop(dfJ.columns[[14,15,16,17,18,19,20,21,22,23,24,25]],axis = 1,inplace=True)\n",
    "dfB.drop(dfB.columns[[14,15,16,17,18,19,20,21,22,23,24,25]],axis = 1,inplace=True)\n",
    "dfT.drop(dfT.columns[[14,15,16,17,18,19,20,21,22,23,24,25]],axis = 1,inplace=True)\n",
    "dfX.drop(dfX.columns[[14,15,16,17,18,19,20,21,22,23,24,25]],axis = 1,inplace=True)"
   ]
  },
  {
   "cell_type": "code",
   "execution_count": 3,
   "id": "ce8a5ff5",
   "metadata": {},
   "outputs": [],
   "source": [
    "dfD.drop_duplicates(inplace=True)\n",
    "dfJ.drop_duplicates(inplace=True)\n",
    "dfB.drop_duplicates(inplace=True)\n",
    "dfT.drop_duplicates(inplace=True)\n",
    "dfX.drop_duplicates(inplace=True)"
   ]
  },
  {
   "cell_type": "code",
   "execution_count": 4,
   "id": "7979ff6a",
   "metadata": {},
   "outputs": [],
   "source": [
    "dfD.drop([118,120,121],inplace=True)\n",
    "dfJ.drop([121],inplace=True)\n",
    "dfB.drop([193],inplace=True)\n",
    "dfX.drop([107],inplace=True)\n",
    "dfT.drop([124],inplace=True)"
   ]
  },
  {
   "cell_type": "code",
   "execution_count": 5,
   "id": "1ba1c6b4",
   "metadata": {},
   "outputs": [],
   "source": [
    "def fillnull(df):\t\n",
    "    df[\"LT\"].fillna(0,inplace=True)\n",
    "    df[\"LB\"].fillna(0,inplace=True)\n",
    "    df[\"KT\"].fillna(0,inplace=True)\n",
    "    df[\"KM\"].fillna(0,inplace=True)\n",
    "    df[\"garasi\"].fillna(0,inplace=True)\n",
    "    df[\"carport\"].fillna(0,inplace=True)\n",
    "    df[\"lokasi\"].fillna('Not Given',inplace=True)\n",
    "    df[\"sertifikat\"].fillna('Not Given',inplace=True)\n",
    "    df[\"listrik\"].fillna(0,inplace=True)\n",
    "    df[\"hadap\"].fillna('Not Given',inplace=True)\n",
    "    df[\"harga\"].fillna(0,inplace=True)\n",
    "    df[\"URL\"].fillna('Not Given',inplace=True)\n",
    "    df[\"deskripsi\"].fillna('Not Given',inplace=True)\n",
    "    df[\"LT\"] = df[\"LT\"].astype('float')\n",
    "    df[\"lokasi\"] = df[\"lokasi\"].astype('category')\n",
    "    df[\"sertifikat\"] = df[\"sertifikat\"].astype('category')\n",
    "    df[\"hadap\"] = df[\"hadap\"].astype('category')\n"
   ]
  },
  {
   "cell_type": "code",
   "execution_count": 6,
   "id": "7a6ba5dc",
   "metadata": {},
   "outputs": [],
   "source": [
    "fillnull(dfD)\n",
    "fillnull(dfJ)\n",
    "fillnull(dfB)\n",
    "fillnull(dfX)\n",
    "fillnull(dfT)"
   ]
  },
  {
   "cell_type": "code",
   "execution_count": 7,
   "id": "31f5417e",
   "metadata": {},
   "outputs": [],
   "source": [
    "dfD['wilayah']='Depok'"
   ]
  },
  {
   "cell_type": "code",
   "execution_count": 8,
   "id": "31f5417e",
   "metadata": {},
   "outputs": [],
   "source": [
    "dfD['wilayah']='Depok'\n",
    "dfX['wilayah']='Bekasi'\n",
    "dfT['wilayah']='Tangerang'\n",
    "dfB['wilayah']='Bogor'\n",
    "dfJ['wilayah']='Jakarta'"
   ]
  },
  {
   "cell_type": "code",
   "execution_count": 9,
   "id": "bd4ec45b",
   "metadata": {},
   "outputs": [],
   "source": [
    "df = pd.concat([dfD,dfB,dfJ,dfT,dfX],ignore_index=True)\n"
   ]
  },
  {
   "cell_type": "code",
   "execution_count": 10,
   "id": "05a58cff",
   "metadata": {},
   "outputs": [],
   "source": [
    "df[\"LT\"] = df[\"LT\"].astype('float')\n",
    "df[\"lokasi\"] = df[\"lokasi\"].astype('category')\n",
    "df[\"sertifikat\"] = df[\"sertifikat\"].astype('category')\n",
    "df[\"hadap\"] = df[\"hadap\"].astype('category')\n",
    "df[\"wilayah\"] = df[\"wilayah\"].astype('category')"
   ]
  },
  {
   "cell_type": "code",
   "execution_count": 11,
   "id": "291c9603",
   "metadata": {},
   "outputs": [
    {
     "data": {
      "text/plain": [
       "created_at      object\n",
       "LT             float64\n",
       "LB             float64\n",
       "KT             float64\n",
       "KM             float64\n",
       "garasi         float64\n",
       "carport        float64\n",
       "lokasi        category\n",
       "sertifikat    category\n",
       "listrik        float64\n",
       "hadap         category\n",
       "harga          float64\n",
       "URL             object\n",
       "deskripsi       object\n",
       "wilayah       category\n",
       "dtype: object"
      ]
     },
     "execution_count": 11,
     "metadata": {},
     "output_type": "execute_result"
    }
   ],
   "source": [
    "df.dtypes"
   ]
  },
  {
   "cell_type": "markdown",
   "id": "25dd15c2",
   "metadata": {},
   "source": [
    "# EDA"
   ]
  },
  {
   "cell_type": "code",
   "execution_count": 12,
   "id": "8cc5d547",
   "metadata": {},
   "outputs": [],
   "source": [
    "import pandas as pd\n",
    "import matplotlib.pyplot as plt\n",
    "import seaborn as sns\n",
    "import numpy as np"
   ]
  },
  {
   "cell_type": "code",
   "execution_count": 35,
   "id": "21f3e921",
   "metadata": {},
   "outputs": [
    {
     "name": "stderr",
     "output_type": "stream",
     "text": [
      "c:\\Users\\BN001719195\\Anaconda3\\lib\\site-packages\\seaborn\\categorical.py:1296: UserWarning: 25.0% of the points cannot be placed; you may want to decrease the size of the markers or use stripplot.\n",
      "  warnings.warn(msg, UserWarning)\n",
      "c:\\Users\\BN001719195\\Anaconda3\\lib\\site-packages\\seaborn\\categorical.py:1296: UserWarning: 46.3% of the points cannot be placed; you may want to decrease the size of the markers or use stripplot.\n",
      "  warnings.warn(msg, UserWarning)\n",
      "c:\\Users\\BN001719195\\Anaconda3\\lib\\site-packages\\seaborn\\categorical.py:1296: UserWarning: 85.7% of the points cannot be placed; you may want to decrease the size of the markers or use stripplot.\n",
      "  warnings.warn(msg, UserWarning)\n",
      "c:\\Users\\BN001719195\\Anaconda3\\lib\\site-packages\\seaborn\\categorical.py:1296: UserWarning: 13.3% of the points cannot be placed; you may want to decrease the size of the markers or use stripplot.\n",
      "  warnings.warn(msg, UserWarning)\n"
     ]
    },
    {
     "data": {
      "text/plain": [
       "<seaborn.axisgrid.FacetGrid at 0x20f225d23a0>"
      ]
     },
     "execution_count": 35,
     "metadata": {},
     "output_type": "execute_result"
    },
    {
     "data": {
      "image/png": "[encoded data removed]",
      "text/plain": [
       "<Figure size 1168.38x360 with 1 Axes>"
      ]
     },
     "metadata": {
      "needs_background": "light"
     },
     "output_type": "display_data"
    }
   ],
   "source": [
    "sns.catplot(x=\"sertifikat\",y=\"harga\",kind=\"swarm\",data=df,aspect=3,hue=\"wilayah\",palette=\"Set2\")"
   ]
  },
  {
   "cell_type": "code",
   "execution_count": 22,
   "id": "6f675be1",
   "metadata": {},
   "outputs": [
    {
     "name": "stderr",
     "output_type": "stream",
     "text": [
      "c:\\Users\\BN001719195\\Anaconda3\\lib\\site-packages\\seaborn\\_decorators.py:36: FutureWarning: Pass the following variables as keyword args: x, y. From version 0.12, the only valid positional argument will be `data`, and passing other arguments without an explicit keyword will result in an error or misinterpretation.\n",
      "  warnings.warn(\n"
     ]
    },
    {
     "data": {
      "text/plain": [
       "<AxesSubplot:xlabel='LT', ylabel='harga'>"
      ]
     },
     "execution_count": 22,
     "metadata": {},
     "output_type": "execute_result"
    },
    {
     "data": {
      "image/png": "[encoded data removed]",
      "text/plain": [
       "<Figure size 432x288 with 1 Axes>"
      ]
     },
     "metadata": {
      "needs_background": "light"
     },
     "output_type": "display_data"
    }
   ],
   "source": [
    "sns.scatterplot(df[\"LT\"],df[\"harga\"],hue=df[\"sertifikat\"],)"
   ]
  },
  {
   "cell_type": "code",
   "execution_count": 29,
   "id": "29f87a73",
   "metadata": {},
   "outputs": [
    {
     "data": {
      "text/plain": [
       "'https://www.rumah.com/listing-properti/dijual-cempaka-putih-oleh-hardi-prastian-19352202'"
      ]
     },
     "execution_count": 29,
     "metadata": {},
     "output_type": "execute_result"
    }
   ],
   "source": [
    "df.iloc[325][\"URL\"]"
   ]
  },
  {
   "cell_type": "code",
   "execution_count": 26,
   "id": "9057e0cd",
   "metadata": {},
   "outputs": [
    {
     "data": {
      "text/html": [
       "<div>\n",
       "<style scoped>\n",
       "    .dataframe tbody tr th:only-of-type {\n",
       "        vertical-align: middle;\n",
       "    }\n",
       "\n",
       "    .dataframe tbody tr th {\n",
       "        vertical-align: top;\n",
       "    }\n",
       "\n",
       "    .dataframe thead th {\n",
       "        text-align: right;\n",
       "    }\n",
       "</style>\n",
       "<table border=\"1\" class=\"dataframe\">\n",
       "  <thead>\n",
       "    <tr style=\"text-align: right;\">\n",
       "      <th></th>\n",
       "      <th>created_at</th>\n",
       "      <th>LT</th>\n",
       "      <th>LB</th>\n",
       "      <th>KT</th>\n",
       "      <th>KM</th>\n",
       "      <th>garasi</th>\n",
       "      <th>carport</th>\n",
       "      <th>lokasi</th>\n",
       "      <th>sertifikat</th>\n",
       "      <th>listrik</th>\n",
       "      <th>hadap</th>\n",
       "      <th>harga</th>\n",
       "      <th>URL</th>\n",
       "      <th>deskripsi</th>\n",
       "      <th>wilayah</th>\n",
       "    </tr>\n",
       "  </thead>\n",
       "  <tbody>\n",
       "    <tr>\n",
       "      <th>325</th>\n",
       "      <td>05-12-2021</td>\n",
       "      <td>3422.0</td>\n",
       "      <td>64.0</td>\n",
       "      <td>1.0</td>\n",
       "      <td>1.0</td>\n",
       "      <td>0.0</td>\n",
       "      <td>1.0</td>\n",
       "      <td>Jakarta Pusat</td>\n",
       "      <td>SHM</td>\n",
       "      <td>2200.0</td>\n",
       "      <td>Not Given</td>\n",
       "      <td>1.050000e+09</td>\n",
       "      <td>https://www.rumah.com/listing-properti/dijual-...</td>\n",
       "      <td>Vlaster cempaka merupakan suatu kompleks perum...</td>\n",
       "      <td>Jakarta</td>\n",
       "    </tr>\n",
       "    <tr>\n",
       "      <th>532</th>\n",
       "      <td>12-06-2021</td>\n",
       "      <td>3087.0</td>\n",
       "      <td>2500.0</td>\n",
       "      <td>5.0</td>\n",
       "      <td>5.0</td>\n",
       "      <td>10.0</td>\n",
       "      <td>10.0</td>\n",
       "      <td>BSD BUKIT GOLF, TANGERANG</td>\n",
       "      <td>Not Given</td>\n",
       "      <td>66000.0</td>\n",
       "      <td>Not Given</td>\n",
       "      <td>1.000000e+05</td>\n",
       "      <td>https://www.rumah123.com/properti/tangerang/ho...</td>\n",
       "      <td>Rumah Super Mewah Bukit Golf BSD City rumah me...</td>\n",
       "      <td>Tangerang</td>\n",
       "    </tr>\n",
       "    <tr>\n",
       "      <th>144</th>\n",
       "      <td>06-12-2021</td>\n",
       "      <td>1500.0</td>\n",
       "      <td>1200.0</td>\n",
       "      <td>8.0</td>\n",
       "      <td>6.0</td>\n",
       "      <td>0.0</td>\n",
       "      <td>8.0</td>\n",
       "      <td>Cileungsi</td>\n",
       "      <td>SHM</td>\n",
       "      <td>17600.0</td>\n",
       "      <td>Not Given</td>\n",
       "      <td>9.900000e+09</td>\n",
       "      <td>https://www.rumah.com/listing-properti/dijual-...</td>\n",
       "      <td>Akses mobil besar 40 ft bisa masuk, parkir mob...</td>\n",
       "      <td>Bogor</td>\n",
       "    </tr>\n",
       "    <tr>\n",
       "      <th>155</th>\n",
       "      <td>06-12-2021</td>\n",
       "      <td>1272.0</td>\n",
       "      <td>500.0</td>\n",
       "      <td>4.0</td>\n",
       "      <td>5.0</td>\n",
       "      <td>0.0</td>\n",
       "      <td>2.0</td>\n",
       "      <td>Babakan Madang</td>\n",
       "      <td>SHM</td>\n",
       "      <td>5500.0</td>\n",
       "      <td>Not Given</td>\n",
       "      <td>1.500000e+10</td>\n",
       "      <td>https://www.rumah.com/listing-properti/dijual-...</td>\n",
       "      <td>Rumah best view</td>\n",
       "      <td>Bogor</td>\n",
       "    </tr>\n",
       "    <tr>\n",
       "      <th>292</th>\n",
       "      <td>03-12-2021</td>\n",
       "      <td>1058.0</td>\n",
       "      <td>283.0</td>\n",
       "      <td>6.0</td>\n",
       "      <td>6.0</td>\n",
       "      <td>3.0</td>\n",
       "      <td>5.0</td>\n",
       "      <td>Bogor Tengah</td>\n",
       "      <td>SHM</td>\n",
       "      <td>1300.0</td>\n",
       "      <td>Not Given</td>\n",
       "      <td>8.500000e+09</td>\n",
       "      <td>https://www.rumah.com/listing-properti/dijual-...</td>\n",
       "      <td>Rumah di pinggir jalan</td>\n",
       "      <td>Bogor</td>\n",
       "    </tr>\n",
       "    <tr>\n",
       "      <th>...</th>\n",
       "      <td>...</td>\n",
       "      <td>...</td>\n",
       "      <td>...</td>\n",
       "      <td>...</td>\n",
       "      <td>...</td>\n",
       "      <td>...</td>\n",
       "      <td>...</td>\n",
       "      <td>...</td>\n",
       "      <td>...</td>\n",
       "      <td>...</td>\n",
       "      <td>...</td>\n",
       "      <td>...</td>\n",
       "      <td>...</td>\n",
       "      <td>...</td>\n",
       "      <td>...</td>\n",
       "    </tr>\n",
       "    <tr>\n",
       "      <th>326</th>\n",
       "      <td>05-12-2021</td>\n",
       "      <td>23.0</td>\n",
       "      <td>40.0</td>\n",
       "      <td>2.0</td>\n",
       "      <td>2.0</td>\n",
       "      <td>1.0</td>\n",
       "      <td>0.0</td>\n",
       "      <td>Jakarta Pusat</td>\n",
       "      <td>SHM</td>\n",
       "      <td>2200.0</td>\n",
       "      <td>Not Given</td>\n",
       "      <td>7.350000e+08</td>\n",
       "      <td>https://www.rumah.com/listing-properti/dijual-...</td>\n",
       "      <td>Rumah 2 lantai mewah, nyaman, bebas banjir</td>\n",
       "      <td>Jakarta</td>\n",
       "    </tr>\n",
       "    <tr>\n",
       "      <th>330</th>\n",
       "      <td>02-12-2021</td>\n",
       "      <td>21.0</td>\n",
       "      <td>37.0</td>\n",
       "      <td>2.0</td>\n",
       "      <td>1.0</td>\n",
       "      <td>0.0</td>\n",
       "      <td>0.0</td>\n",
       "      <td>Jakarta Pusat</td>\n",
       "      <td>SHM</td>\n",
       "      <td>1300.0</td>\n",
       "      <td>Not Given</td>\n",
       "      <td>5.330000e+08</td>\n",
       "      <td>https://www.rumah.com/listing-properti/dijual-...</td>\n",
       "      <td>Not Given</td>\n",
       "      <td>Jakarta</td>\n",
       "    </tr>\n",
       "    <tr>\n",
       "      <th>313</th>\n",
       "      <td>06-12-2021</td>\n",
       "      <td>19.0</td>\n",
       "      <td>35.0</td>\n",
       "      <td>2.0</td>\n",
       "      <td>1.0</td>\n",
       "      <td>0.0</td>\n",
       "      <td>0.0</td>\n",
       "      <td>Jakarta Pusat</td>\n",
       "      <td>SHM</td>\n",
       "      <td>2200.0</td>\n",
       "      <td>Not Given</td>\n",
       "      <td>3.950000e+08</td>\n",
       "      <td>https://www.rumah.com/listing-properti/dijual-...</td>\n",
       "      <td>Dekat dengan Mall Atrium Senen, dekat dengan a...</td>\n",
       "      <td>Jakarta</td>\n",
       "    </tr>\n",
       "    <tr>\n",
       "      <th>333</th>\n",
       "      <td>07-12-2021</td>\n",
       "      <td>18.0</td>\n",
       "      <td>33.0</td>\n",
       "      <td>2.0</td>\n",
       "      <td>1.0</td>\n",
       "      <td>0.0</td>\n",
       "      <td>0.0</td>\n",
       "      <td>Jakarta Pusat</td>\n",
       "      <td>SHM</td>\n",
       "      <td>2200.0</td>\n",
       "      <td>Not Given</td>\n",
       "      <td>4.250000e+08</td>\n",
       "      <td>https://www.rumah.com/listing-properti/dijual-...</td>\n",
       "      <td>Kualitas bangunan &amp; material terbaik, one gate...</td>\n",
       "      <td>Jakarta</td>\n",
       "    </tr>\n",
       "    <tr>\n",
       "      <th>331</th>\n",
       "      <td>02-12-2021</td>\n",
       "      <td>16.0</td>\n",
       "      <td>32.0</td>\n",
       "      <td>1.0</td>\n",
       "      <td>1.0</td>\n",
       "      <td>0.0</td>\n",
       "      <td>0.0</td>\n",
       "      <td>Jakarta Pusat</td>\n",
       "      <td>SHM</td>\n",
       "      <td>2200.0</td>\n",
       "      <td>Not Given</td>\n",
       "      <td>3.800000e+08</td>\n",
       "      <td>https://www.rumah.com/listing-properti/dijual-...</td>\n",
       "      <td>Sangat cocok untuk huni dan investasi. Lokasi ...</td>\n",
       "      <td>Jakarta</td>\n",
       "    </tr>\n",
       "  </tbody>\n",
       "</table>\n",
       "<p>663 rows × 15 columns</p>\n",
       "</div>"
      ],
      "text/plain": [
       "     created_at      LT      LB   KT   KM  garasi  carport  \\\n",
       "325  05-12-2021  3422.0    64.0  1.0  1.0     0.0      1.0   \n",
       "532  12-06-2021  3087.0  2500.0  5.0  5.0    10.0     10.0   \n",
       "144  06-12-2021  1500.0  1200.0  8.0  6.0     0.0      8.0   \n",
       "155  06-12-2021  1272.0   500.0  4.0  5.0     0.0      2.0   \n",
       "292  03-12-2021  1058.0   283.0  6.0  6.0     3.0      5.0   \n",
       "..          ...     ...     ...  ...  ...     ...      ...   \n",
       "326  05-12-2021    23.0    40.0  2.0  2.0     1.0      0.0   \n",
       "330  02-12-2021    21.0    37.0  2.0  1.0     0.0      0.0   \n",
       "313  06-12-2021    19.0    35.0  2.0  1.0     0.0      0.0   \n",
       "333  07-12-2021    18.0    33.0  2.0  1.0     0.0      0.0   \n",
       "331  02-12-2021    16.0    32.0  1.0  1.0     0.0      0.0   \n",
       "\n",
       "                        lokasi sertifikat  listrik      hadap         harga  \\\n",
       "325              Jakarta Pusat        SHM   2200.0  Not Given  1.050000e+09   \n",
       "532  BSD BUKIT GOLF, TANGERANG  Not Given  66000.0  Not Given  1.000000e+05   \n",
       "144                  Cileungsi        SHM  17600.0  Not Given  9.900000e+09   \n",
       "155             Babakan Madang        SHM   5500.0  Not Given  1.500000e+10   \n",
       "292               Bogor Tengah        SHM   1300.0  Not Given  8.500000e+09   \n",
       "..                         ...        ...      ...        ...           ...   \n",
       "326              Jakarta Pusat        SHM   2200.0  Not Given  7.350000e+08   \n",
       "330              Jakarta Pusat        SHM   1300.0  Not Given  5.330000e+08   \n",
       "313              Jakarta Pusat        SHM   2200.0  Not Given  3.950000e+08   \n",
       "333              Jakarta Pusat        SHM   2200.0  Not Given  4.250000e+08   \n",
       "331              Jakarta Pusat        SHM   2200.0  Not Given  3.800000e+08   \n",
       "\n",
       "                                                   URL  \\\n",
       "325  https://www.rumah.com/listing-properti/dijual-...   \n",
       "532  https://www.rumah123.com/properti/tangerang/ho...   \n",
       "144  https://www.rumah.com/listing-properti/dijual-...   \n",
       "155  https://www.rumah.com/listing-properti/dijual-...   \n",
       "292  https://www.rumah.com/listing-properti/dijual-...   \n",
       "..                                                 ...   \n",
       "326  https://www.rumah.com/listing-properti/dijual-...   \n",
       "330  https://www.rumah.com/listing-properti/dijual-...   \n",
       "313  https://www.rumah.com/listing-properti/dijual-...   \n",
       "333  https://www.rumah.com/listing-properti/dijual-...   \n",
       "331  https://www.rumah.com/listing-properti/dijual-...   \n",
       "\n",
       "                                             deskripsi    wilayah  \n",
       "325  Vlaster cempaka merupakan suatu kompleks perum...    Jakarta  \n",
       "532  Rumah Super Mewah Bukit Golf BSD City rumah me...  Tangerang  \n",
       "144  Akses mobil besar 40 ft bisa masuk, parkir mob...      Bogor  \n",
       "155                                    Rumah best view      Bogor  \n",
       "292                             Rumah di pinggir jalan      Bogor  \n",
       "..                                                 ...        ...  \n",
       "326         Rumah 2 lantai mewah, nyaman, bebas banjir    Jakarta  \n",
       "330                                          Not Given    Jakarta  \n",
       "313  Dekat dengan Mall Atrium Senen, dekat dengan a...    Jakarta  \n",
       "333  Kualitas bangunan & material terbaik, one gate...    Jakarta  \n",
       "331  Sangat cocok untuk huni dan investasi. Lokasi ...    Jakarta  \n",
       "\n",
       "[663 rows x 15 columns]"
      ]
     },
     "execution_count": 26,
     "metadata": {},
     "output_type": "execute_result"
    }
   ],
   "source": [
    "df.sort_values(by=[\"LT\"],ascending=False,)"
   ]
  },
  {
   "cell_type": "code",
   "execution_count": null,
   "id": "2ece3b7d",
   "metadata": {},
   "outputs": [],
   "source": []
  }
 ],
 "metadata": {
  "kernelspec": {
   "display_name": "Python 3.9.12 ('base')",
   "language": "python",
   "name": "python3"
  },
  "language_info": {
   "codemirror_mode": {
    "name": "ipython",
    "version": 3
   },
   "file_extension": ".py",
   "mimetype": "text/x-python",
   "name": "python",
   "nbconvert_exporter": "python",
   "pygments_lexer": "ipython3",
   "version": "3.9.12"
  },
  "vscode": {
   "interpreter": {
    "hash": "51ac3c46a16ae4038f1e0ead425d43aa18b22d14b9d786959fbd54f7a14288fc"
   }
  }
 },
 "nbformat": 4,
 "nbformat_minor": 5
}
