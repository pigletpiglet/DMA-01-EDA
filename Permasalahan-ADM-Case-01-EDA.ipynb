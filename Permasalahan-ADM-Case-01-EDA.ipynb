{
 "cells": [
  {
   "cell_type": "markdown",
   "id": "a6835ef2",
   "metadata": {},
   "source": [
    "<center><h2><strong><font color=\"blue\">Study Case 01 - Data Mining dan Business Intelligence: EDA pada data property</font></strong></h2></center>\n",
    "\n",
    "<img alt=\"\" src=\"images/Ray-pink-Property-Case-Banner.jpg\"/>"
   ]
  },
  {
   "cell_type": "markdown",
   "id": "8cbd8d70",
   "metadata": {},
   "source": [
    "# Kasus:\n",
    "\n",
    "* Anda adalah seorang Data Analyst yang bekerja di PT **Ray Pink Property Indonesia** (RPPI).\n",
    "* RPPI adalah perusahaan property yang berdiri sejak 11 tahun yang lalu.\n",
    "* RPPI memliki kantor cabang di 7 propinsi di Indonesia dan jumlahnya terus bertambah.\n",
    "* Valuasi RPPI tahun ini mencapai Rp 7 Trilyun, meningkat 7% dari tahun sebelumnya.\n",
    "* Bidang usaha RPPI adalah investasi dan jual-beli property secara umum, termasuk bekerja sama dengan developer perumahan.\n",
    "* Data Engineer (DE)/Database Administrator (DBA) RPPI berhasil mengumpulkan data rumah-rumah yang dijual di beberapa kota di Indonesia.\n",
    "* Sebagai Data Analyst anda akan hadir dan melakukan presentasi pada rapat direksi untuk memberikan insight dari data ke upper management (C-Level, senior managers, dan komisaris perusahaan).\n",
    "* Di studi kasus ini anda mempersiapkan \"bahan presentasi\" dengan cara melakukan EDA pada data yang diterima dari DE/DBA."
   ]
  },
  {
   "cell_type": "markdown",
   "id": "0c3cb380",
   "metadata": {},
   "source": [
    "# Petunjuk:\n",
    "\n",
    "Di studi kasus pertama, anda mendapat bantuan keterangan dari manajemen. Setelah berdiskusi *over lunch* dengan beberapa manager senior, anda mendengar bahwa mereka ingin mengetahui:\n",
    "\n",
    "1. Kualitas data yang dimiliki perusahaan.\n",
    "2. Apakah ada saran perbaikan data ke DE/DBA perusahaan agar RPPI menjadi *data driven company* yang unggul.\n",
    "3. Dari data yang ada, apakah ada kecenderungan rumah disuatu kota lebih mahal/murah dibandingkan kota lain?\n",
    "4. Dari data yang ada, apakah bisa dibuat rekomendasi sebaiknya RPPI membuat kantor cabang berikutnya di kota mana? Mengapa? (Asumsikan RPPI belum memiliki cabang di kota-kota yang disebutkan di data).\n",
    "5. Rumah dengan karakteristik seperti apa yang paling banyak dijual?\n",
    "6. Jika RPPI ingin melakukan investasi (max) Rp. 25 Milyar minggu besok, apakah dari data anda dapat memberikan rekomendasi rumah mana saja yang akan berpotensi menghasilkan keuntungan bagi perusahaan?\n",
    "7. Dan yang terpenting, informasi berharga apa lagi yang bisa anda dapatkan dari data?"
   ]
  },
  {
   "cell_type": "markdown",
   "id": "691c8ffc",
   "metadata": {},
   "source": [
    "# Catatan:\n",
    "\n",
    "* Anda diperbolehkan melakukan augmentasi data (menambah data eksternal).\n",
    "* Yakinkan menuliskan asumsi anda atas kesimpulan dan rekomendasi yang diberikan ke perusahaan.\n",
    "* Yakinkan kesimpulan dan rekomendasi ditujukan ke perusahaan (bukan dosen mata kuliah).\n",
    "* Anda boleh menggunakan software visualisasi apapun, misal excel, Ms Word, Photoshop, dsb.\n",
    "* Yakinkan file images dapat dibuka (nampak) saat ipynb di Jupyter notebook anda dibuka di Google Colab.\n",
    " - Tips: hati-hati dalam melakukan penamaan file, Google colab case sensitive.\n",
    "* Interpretasi diberikan menggunakan cell markdown tepat dibawah output code yang relevan diatasnya.\n",
    "* Anda tidak diperkenankan bertanya pertanyaan yang:\n",
    " - Merupakan jawaban atau menjurus ke jawaban studi kasus.\n",
    " - Debugging - code error (anda diharapkan melakukan code troubleshooting sendiri via mesin pencari)\n",
    "* Pada studi kasus ini anda hanya diperkenankan untuk melakukan EDA (bukan modeling seperti prediksi/forecasting)"
   ]
  },
  {
   "cell_type": "markdown",
   "id": "848a2096",
   "metadata": {},
   "source": [
    "# Komponen Penilaian:\n",
    "\n",
    "* Code tidak diubah sejak deadline studi kasus.\n",
    "* Code dapat di \"Run-All\" di Google Colab oleh dosen tanpa error.\n",
    "* Pemilihan preprocessing dan visualisasi yang tepat\n",
    "* Interpretasi dan rekomendasi dengan narasi dan kualitas yang baik, serta berdasarkan atas (pengolahan) data.\n",
    "* Kreativitas dan inovasi pengolahan data dan penyajian visualisasi."
   ]
  },
  {
   "cell_type": "markdown",
   "id": "e5a333c7",
   "metadata": {},
   "source": [
    "# Data Understanding (DU):\n",
    "\n",
    "Keterangan Varabel:\n",
    "* Created_at: Tanggal dimana iklan rumah dibuat\n",
    "* LT\t\t: Luas Tanah properti yang ditawarkan\n",
    "* LB\t\t: Luas Bangunan properti yang ditawarkan\n",
    "* KT\t\t: Jumlah Kamar Tidur properti yang ditawarkan\n",
    "* KM\t\t: Jumlah Kamar Mandi properti yang ditawarkan\n",
    "* Garasi\t: Jumlah Kapasitas Garasi di properti yang ditawarkan\n",
    "* Carport\t: Jumlah kapasitas Carport di properti yang ditawarkan\n",
    "* Lokasi\t: Detail lokasi properti yang ditawarkan\n",
    "* Sertifikat: Jenis sertifikat properti yang ditawarkan\n",
    "* Listrik\t: Daya listrik dari properti yang ditawarkan\n",
    "* Hadap\t\t: Keterangan property yang ditawarkan menghadap ke arah mana\n",
    "* Harga \t: Harga property yang ditawarkan dalam Rupiah\n",
    "* URL\t\t: Alamat tautan (link) property yang ditawarkan.\n",
    "* Deskripsi\t: Deskripsi iklan property yang ditawarkan. "
   ]
  },
  {
   "cell_type": "code",
   "execution_count": 66,
   "id": "ddd7f934",
   "metadata": {},
   "outputs": [
    {
     "data": {
      "text/plain": [
       "((1024, 26), (998, 26), (999, 26), (128, 26), (992, 26))"
      ]
     },
     "execution_count": 66,
     "metadata": {},
     "output_type": "execute_result"
    }
   ],
   "source": [
    "# Loading Data:\n",
    "import pandas as pd\n",
    "\n",
    "try: # Running Locally, yakinkan \"file_\" berada di folder \"data\"\n",
    "    dfJ = pd.read_csv(\"data/jakarta.csv\", low_memory = False, encoding='utf8')\n",
    "    dfD = pd.read_csv(\"data/depok.csv\", low_memory = False, encoding='utf8')\n",
    "    dfB = pd.read_csv(\"data/bogor.csv\", low_memory = False, encoding='utf8')\n",
    "    dfT = pd.read_csv(\"data/tangerang.csv\", low_memory = False, encoding='utf8')\n",
    "    dfX = pd.read_csv(\"data/bekasi.csv\", low_memory = False, encoding='utf8')    \n",
    "except: # Running in Google Colab\n",
    "    !mkdir data\n",
    "    !wget -P data/ https://raw.githubusercontent.com/taufiksutanto/ADM-Case-01-EDA/master/data/jakarta.csv\n",
    "    !wget -P data/ https://raw.githubusercontent.com/taufiksutanto/ADM-Case-01-EDA/master/data/depok.csv\n",
    "    !wget -P data/ https://raw.githubusercontent.com/taufiksutanto/ADM-Case-01-EDA/master/data/bogor.csv\n",
    "    !wget -P data/ https://raw.githubusercontent.com/taufiksutanto/ADM-Case-01-EDA/master/data/tangerang.csv\n",
    "    !wget -P data/ https://raw.githubusercontent.com/taufiksutanto/ADM-Case-01-EDA/master/data/bekasi.csv\n",
    "    dfJ = pd.read_csv(\"data/jakarta.csv\", low_memory = False, encoding='utf8')\n",
    "    dfD = pd.read_csv(\"data/depok.csv\", low_memory = False, encoding='utf8')\n",
    "    dfB = pd.read_csv(\"data/bogor.csv\", low_memory = False, encoding='utf8')\n",
    "    dfT = pd.read_csv(\"data/tangerang.csv\", low_memory = False, encoding='utf8')\n",
    "    dfX = pd.read_csv(\"data/bekasi.csv\", low_memory = False, encoding='utf8')\n",
    "    \n",
    "dfJ.shape, dfD.shape, dfB.shape, dfT.shape, dfX.shape"
   ]
  },
  {
   "cell_type": "markdown",
   "id": "a3faa63a",
   "metadata": {},
   "source": [
    "# Preprocessing"
   ]
  },
  {
   "cell_type": "code",
   "execution_count": 67,
   "id": "ebc84170",
   "metadata": {},
   "outputs": [],
   "source": [
    "dfD.drop(dfD.columns[[14,15,16,17,18,19,20,21,22,23,24,25]],axis = 1,inplace=True)\n",
    "dfJ.drop(dfJ.columns[[14,15,16,17,18,19,20,21,22,23,24,25]],axis = 1,inplace=True)\n",
    "dfB.drop(dfB.columns[[14,15,16,17,18,19,20,21,22,23,24,25]],axis = 1,inplace=True)\n",
    "dfT.drop(dfT.columns[[14,15,16,17,18,19,20,21,22,23,24,25]],axis = 1,inplace=True)\n",
    "dfX.drop(dfX.columns[[14,15,16,17,18,19,20,21,22,23,24,25]],axis = 1,inplace=True)"
   ]
  },
  {
   "cell_type": "code",
   "execution_count": 68,
   "id": "ce8a5ff5",
   "metadata": {},
   "outputs": [],
   "source": [
    "dfD.drop_duplicates(inplace=True)\n",
    "dfJ.drop_duplicates(inplace=True)\n",
    "dfB.drop_duplicates(inplace=True)\n",
    "dfT.drop_duplicates(inplace=True)\n",
    "dfX.drop_duplicates(inplace=True)"
   ]
  },
  {
   "cell_type": "code",
   "execution_count": 69,
   "id": "7979ff6a",
   "metadata": {},
   "outputs": [],
   "source": [
    "dfD.drop([118,120,121],inplace=True)\n",
    "dfJ.drop([121],inplace=True)\n",
    "dfB.drop([193],inplace=True)\n",
    "dfX.drop([107],inplace=True)\n",
    "dfT.drop([124],inplace=True)"
   ]
  },
  {
   "cell_type": "code",
   "execution_count": 70,
   "id": "1ba1c6b4",
   "metadata": {},
   "outputs": [],
   "source": [
    "def fillnull(df):\t\n",
    "    df[\"LT\"].fillna(0,inplace=True)\n",
    "    df[\"LB\"].fillna(0,inplace=True)\n",
    "    df[\"KT\"].fillna(0,inplace=True)\n",
    "    df[\"KM\"].fillna(0,inplace=True)\n",
    "    df[\"garasi\"].fillna(0,inplace=True)\n",
    "    df[\"carport\"].fillna(0,inplace=True)\n",
    "    df[\"lokasi\"].fillna('Not Given',inplace=True)\n",
    "    df[\"sertifikat\"].fillna('Not Given',inplace=True)\n",
    "    df[\"listrik\"].fillna(0,inplace=True)\n",
    "    df[\"hadap\"].fillna('Not Given',inplace=True)\n",
    "    df[\"harga\"].fillna(0,inplace=True)\n",
    "    df[\"URL\"].fillna('Not Given',inplace=True)\n",
    "    df[\"deskripsi\"].fillna('Not Given',inplace=True)\n",
    "    df[\"LT\"] = df[\"LT\"].astype('float')\n",
    "    df[\"lokasi\"] = df[\"lokasi\"].astype('category')\n",
    "    df[\"sertifikat\"] = df[\"sertifikat\"].astype('category')\n",
    "    df[\"hadap\"] = df[\"hadap\"].astype('category')\n"
   ]
  },
  {
   "cell_type": "code",
   "execution_count": 71,
   "id": "7a6ba5dc",
   "metadata": {},
   "outputs": [],
   "source": [
    "fillnull(dfD)\n",
    "fillnull(dfJ)\n",
    "fillnull(dfB)\n",
    "fillnull(dfX)\n",
    "fillnull(dfT)"
   ]
  },
  {
   "cell_type": "code",
   "execution_count": 72,
   "id": "31f5417e",
   "metadata": {},
   "outputs": [],
   "source": [
    "dfD['wilayah']='Depok'"
   ]
  },
  {
   "cell_type": "code",
   "execution_count": 73,
   "id": "31f5417e",
   "metadata": {},
   "outputs": [],
   "source": [
    "dfD['wilayah']='Depok'\n",
    "dfX['wilayah']='Bekasi'\n",
    "dfT['wilayah']='Tangerang'\n",
    "dfB['wilayah']='Bogor'\n",
    "dfJ['wilayah']='Jakarta'"
   ]
  },
  {
   "cell_type": "code",
   "execution_count": 74,
   "id": "bd4ec45b",
   "metadata": {},
   "outputs": [],
   "source": [
    "df = pd.concat([dfD,dfB,dfJ,dfT,dfX],ignore_index=True)\n"
   ]
  },
  {
   "cell_type": "code",
   "execution_count": 75,
   "id": "05a58cff",
   "metadata": {},
   "outputs": [],
   "source": [
    "df[\"LT\"] = df[\"LT\"].astype('float')\n",
    "df[\"lokasi\"] = df[\"lokasi\"].astype('category')\n",
    "df[\"sertifikat\"] = df[\"sertifikat\"].astype('category')\n",
    "df[\"hadap\"] = df[\"hadap\"].astype('category')\n",
    "df[\"wilayah\"] = df[\"wilayah\"].astype('category')"
   ]
  },
  {
   "cell_type": "code",
   "execution_count": 76,
   "id": "291c9603",
   "metadata": {},
   "outputs": [
    {
     "data": {
      "text/plain": [
       "created_at      object\n",
       "LT             float64\n",
       "LB             float64\n",
       "KT             float64\n",
       "KM             float64\n",
       "garasi         float64\n",
       "carport        float64\n",
       "lokasi        category\n",
       "sertifikat    category\n",
       "listrik        float64\n",
       "hadap         category\n",
       "harga          float64\n",
       "URL             object\n",
       "deskripsi       object\n",
       "wilayah       category\n",
       "dtype: object"
      ]
     },
     "execution_count": 76,
     "metadata": {},
     "output_type": "execute_result"
    }
   ],
   "source": [
    "df.dtypes"
   ]
  },
  {
   "cell_type": "markdown",
   "id": "25dd15c2",
   "metadata": {},
   "source": [
    "# EDA"
   ]
  },
  {
   "cell_type": "markdown",
   "id": "e951a7a5",
   "metadata": {},
   "source": [
    "1. Data yang dimiliki perusahaan sudah cukup baik, namun untuk data jenis sertifikat properti yang ditawarkan masih terbilang tidak lengkap terlihat dari banyaknya null pada data. Selain itu, data lokasi rumah juga kurang spesifik karena hanya menjelaskan letak kelurahannya saja tanpa memberikan detail alamat rumah."
   ]
  },
  {
   "cell_type": "markdown",
   "id": "96a7aba6",
   "metadata": {},
   "source": [
    "2. DE/DBA perusahaan sebaiknya melengkapi data jenis sertifikat dari properti yang ditawarkan agar kualitas data menjadi lebih baik dan tidak menutup kemungkinan akan ditemukan insight baru yang dapat menguntungkan pihak RPPI. DE/DBA perusahaan juga disarankan untuk lebih memperjelas data lokasi properti yang ditawarkan agar tidak terbatas pada lingkup kelurahan saja"
   ]
  },
  {
   "cell_type": "code",
   "execution_count": 77,
   "id": "8cc5d547",
   "metadata": {},
   "outputs": [],
   "source": [
    "import pandas as pd\n",
    "import matplotlib.pyplot as plt\n",
    "import seaborn as sns\n",
    "import numpy as np"
   ]
  },
  {
   "cell_type": "markdown",
   "id": "e0b06179",
   "metadata": {},
   "source": [
    "## 3"
   ]
  },
  {
   "cell_type": "code",
   "execution_count": 78,
   "id": "2e5d99aa",
   "metadata": {},
   "outputs": [
    {
     "name": "stderr",
     "output_type": "stream",
     "text": [
      "c:\\Users\\BN001719195\\Anaconda3\\lib\\site-packages\\seaborn\\categorical.py:1296: UserWarning: 80.4% of the points cannot be placed; you may want to decrease the size of the markers or use stripplot.\n",
      "  warnings.warn(msg, UserWarning)\n",
      "c:\\Users\\BN001719195\\Anaconda3\\lib\\site-packages\\seaborn\\categorical.py:1296: UserWarning: 82.9% of the points cannot be placed; you may want to decrease the size of the markers or use stripplot.\n",
      "  warnings.warn(msg, UserWarning)\n",
      "c:\\Users\\BN001719195\\Anaconda3\\lib\\site-packages\\seaborn\\categorical.py:1296: UserWarning: 92.4% of the points cannot be placed; you may want to decrease the size of the markers or use stripplot.\n",
      "  warnings.warn(msg, UserWarning)\n",
      "c:\\Users\\BN001719195\\Anaconda3\\lib\\site-packages\\seaborn\\categorical.py:1296: UserWarning: 47.1% of the points cannot be placed; you may want to decrease the size of the markers or use stripplot.\n",
      "  warnings.warn(msg, UserWarning)\n",
      "c:\\Users\\BN001719195\\Anaconda3\\lib\\site-packages\\seaborn\\categorical.py:1296: UserWarning: 92.7% of the points cannot be placed; you may want to decrease the size of the markers or use stripplot.\n",
      "  warnings.warn(msg, UserWarning)\n"
     ]
    },
    {
     "data": {
      "image/png": "[encoded data removed]",
      "text/plain": [
       "<Figure size 360x360 with 1 Axes>"
      ]
     },
     "metadata": {
      "needs_background": "light"
     },
     "output_type": "display_data"
    }
   ],
   "source": [
    "p = sns.catplot(x='wilayah',y='harga',kind='swarm',data=df)"
   ]
  },
  {
   "cell_type": "markdown",
   "id": "0e365a88",
   "metadata": {},
   "source": [
    "Terlihat terdapat kecenderungan harga property yang lebih tinggi di wilayah Jakarta dibandingkan wilayah lain, diikuti Bogor, Bekasi, kemudian Depok dan Tangerang. Harga property di Jakarta lebih mahal karena Jakarta merupakan pusat lokasi bisnis di Indonesia. Menurut Executive Director Jakarta Property Institute Wendy Haryanto, mengatakan bahwa salah satu faktor harga rumah di Jakarta mahal dipengaruhi zin Mendirikan Bangunan (IMB) dan sulitnya akses terkait kemudahan berbisnis (ease of doing business).\n",
    "sumber: https://www.idxchannel.com/economics/harga-rumah-di-jakarta-ternyata-lebih-mahal-dari-new-york-dan-london-kenapa-ya"
   ]
  },
  {
   "cell_type": "markdown",
   "id": "7a3647f7",
   "metadata": {},
   "source": [
    "## 4. \n",
    "Dilihat dari plot kota dengan properti dijual terbanyak, RPPI disarankan untuk membuat kantor cabang di kota dengan jumlah properti dijual terbanyak, yakni kota Jakarta. Dengan membuat kantor cabang di Jakarta, maka akan mempermudah RPPI dalam mengawasi dan mengontrol properti\" miliknya."
   ]
  },
  {
   "cell_type": "markdown",
   "id": "157cc35a",
   "metadata": {},
   "source": [
    "## 5"
   ]
  },
  {
   "cell_type": "code",
   "execution_count": 80,
   "id": "0492382f",
   "metadata": {},
   "outputs": [
    {
     "data": {
      "text/html": [
       "<div>\n",
       "<style scoped>\n",
       "    .dataframe tbody tr th:only-of-type {\n",
       "        vertical-align: middle;\n",
       "    }\n",
       "\n",
       "    .dataframe tbody tr th {\n",
       "        vertical-align: top;\n",
       "    }\n",
       "\n",
       "    .dataframe thead th {\n",
       "        text-align: right;\n",
       "    }\n",
       "</style>\n",
       "<table border=\"1\" class=\"dataframe\">\n",
       "  <thead>\n",
       "    <tr style=\"text-align: right;\">\n",
       "      <th></th>\n",
       "      <th>LT</th>\n",
       "      <th>LB</th>\n",
       "      <th>KT</th>\n",
       "      <th>KM</th>\n",
       "      <th>garasi</th>\n",
       "      <th>carport</th>\n",
       "      <th>listrik</th>\n",
       "      <th>harga</th>\n",
       "    </tr>\n",
       "  </thead>\n",
       "  <tbody>\n",
       "    <tr>\n",
       "      <th>count</th>\n",
       "      <td>663.000000</td>\n",
       "      <td>663.000000</td>\n",
       "      <td>663.000000</td>\n",
       "      <td>663.000000</td>\n",
       "      <td>663.000000</td>\n",
       "      <td>663.000000</td>\n",
       "      <td>663.000000</td>\n",
       "      <td>6.630000e+02</td>\n",
       "    </tr>\n",
       "    <tr>\n",
       "      <th>mean</th>\n",
       "      <td>163.779789</td>\n",
       "      <td>151.380090</td>\n",
       "      <td>3.155354</td>\n",
       "      <td>2.300151</td>\n",
       "      <td>0.416290</td>\n",
       "      <td>1.239819</td>\n",
       "      <td>2896.530920</td>\n",
       "      <td>2.188769e+09</td>\n",
       "    </tr>\n",
       "    <tr>\n",
       "      <th>std</th>\n",
       "      <td>242.135058</td>\n",
       "      <td>199.432867</td>\n",
       "      <td>1.387797</td>\n",
       "      <td>1.375920</td>\n",
       "      <td>1.003848</td>\n",
       "      <td>1.133711</td>\n",
       "      <td>4693.275066</td>\n",
       "      <td>7.596722e+09</td>\n",
       "    </tr>\n",
       "    <tr>\n",
       "      <th>min</th>\n",
       "      <td>16.000000</td>\n",
       "      <td>15.000000</td>\n",
       "      <td>1.000000</td>\n",
       "      <td>0.000000</td>\n",
       "      <td>0.000000</td>\n",
       "      <td>0.000000</td>\n",
       "      <td>0.000000</td>\n",
       "      <td>4.100000e+01</td>\n",
       "    </tr>\n",
       "    <tr>\n",
       "      <th>25%</th>\n",
       "      <td>68.000000</td>\n",
       "      <td>50.000000</td>\n",
       "      <td>2.000000</td>\n",
       "      <td>1.000000</td>\n",
       "      <td>0.000000</td>\n",
       "      <td>1.000000</td>\n",
       "      <td>1300.000000</td>\n",
       "      <td>1.950000e+03</td>\n",
       "    </tr>\n",
       "    <tr>\n",
       "      <th>50%</th>\n",
       "      <td>94.000000</td>\n",
       "      <td>83.000000</td>\n",
       "      <td>3.000000</td>\n",
       "      <td>2.000000</td>\n",
       "      <td>0.000000</td>\n",
       "      <td>1.000000</td>\n",
       "      <td>2200.000000</td>\n",
       "      <td>4.560000e+08</td>\n",
       "    </tr>\n",
       "    <tr>\n",
       "      <th>75%</th>\n",
       "      <td>160.000000</td>\n",
       "      <td>180.000000</td>\n",
       "      <td>4.000000</td>\n",
       "      <td>3.000000</td>\n",
       "      <td>0.000000</td>\n",
       "      <td>2.000000</td>\n",
       "      <td>2200.000000</td>\n",
       "      <td>1.350000e+09</td>\n",
       "    </tr>\n",
       "    <tr>\n",
       "      <th>max</th>\n",
       "      <td>3422.000000</td>\n",
       "      <td>2500.000000</td>\n",
       "      <td>10.000000</td>\n",
       "      <td>10.000000</td>\n",
       "      <td>10.000000</td>\n",
       "      <td>10.000000</td>\n",
       "      <td>66000.000000</td>\n",
       "      <td>1.050000e+11</td>\n",
       "    </tr>\n",
       "  </tbody>\n",
       "</table>\n",
       "</div>"
      ],
      "text/plain": [
       "                LT           LB          KT          KM      garasi  \\\n",
       "count   663.000000   663.000000  663.000000  663.000000  663.000000   \n",
       "mean    163.779789   151.380090    3.155354    2.300151    0.416290   \n",
       "std     242.135058   199.432867    1.387797    1.375920    1.003848   \n",
       "min      16.000000    15.000000    1.000000    0.000000    0.000000   \n",
       "25%      68.000000    50.000000    2.000000    1.000000    0.000000   \n",
       "50%      94.000000    83.000000    3.000000    2.000000    0.000000   \n",
       "75%     160.000000   180.000000    4.000000    3.000000    0.000000   \n",
       "max    3422.000000  2500.000000   10.000000   10.000000   10.000000   \n",
       "\n",
       "          carport       listrik         harga  \n",
       "count  663.000000    663.000000  6.630000e+02  \n",
       "mean     1.239819   2896.530920  2.188769e+09  \n",
       "std      1.133711   4693.275066  7.596722e+09  \n",
       "min      0.000000      0.000000  4.100000e+01  \n",
       "25%      1.000000   1300.000000  1.950000e+03  \n",
       "50%      1.000000   2200.000000  4.560000e+08  \n",
       "75%      2.000000   2200.000000  1.350000e+09  \n",
       "max     10.000000  66000.000000  1.050000e+11  "
      ]
     },
     "execution_count": 80,
     "metadata": {},
     "output_type": "execute_result"
    }
   ],
   "source": [
    "df.describe()"
   ]
  },
  {
   "cell_type": "code",
   "execution_count": 81,
   "id": "00d8199d",
   "metadata": {},
   "outputs": [
    {
     "data": {
      "image/png": "[encoded data removed]",
      "text/plain": [
       "<Figure size 576x576 with 1 Axes>"
      ]
     },
     "metadata": {
      "needs_background": "light"
     },
     "output_type": "display_data"
    }
   ],
   "source": [
    "CT = pd.crosstab(index=df[\"carport\"], columns=df[\"garasi\"])\n",
    "p = CT.plot(kind=\"bar\", figsize=(8,8), stacked=True)"
   ]
  },
  {
   "cell_type": "code",
   "execution_count": 82,
   "id": "8f5416b1",
   "metadata": {},
   "outputs": [
    {
     "data": {
      "image/png": "[encoded data removed]",
      "text/plain": [
       "<Figure size 576x576 with 1 Axes>"
      ]
     },
     "metadata": {
      "needs_background": "light"
     },
     "output_type": "display_data"
    }
   ],
   "source": [
    "CT = pd.crosstab(index=df[\"KM\"], columns=df[\"KT\"])\n",
    "p = CT.plot(kind=\"bar\", figsize=(8,8), stacked=True)"
   ]
  },
  {
   "cell_type": "markdown",
   "id": "a5d69895",
   "metadata": {},
   "source": [
    "Rumah dengan karakteristik yang paling banyak dijual oleh RPPI adalah rumah dengan 160 LT, 150 LB, 2 Kamar Mandi, 2 Kamar Tidur, tidak ada garasi, dan 1 carport."
   ]
  },
  {
   "cell_type": "markdown",
   "id": "48c3f5f0",
   "metadata": {},
   "source": [
    "## 5"
   ]
  },
  {
   "cell_type": "code",
   "execution_count": 83,
   "id": "3441f845",
   "metadata": {},
   "outputs": [
    {
     "data": {
      "text/html": [
       "<div>\n",
       "<style scoped>\n",
       "    .dataframe tbody tr th:only-of-type {\n",
       "        vertical-align: middle;\n",
       "    }\n",
       "\n",
       "    .dataframe tbody tr th {\n",
       "        vertical-align: top;\n",
       "    }\n",
       "\n",
       "    .dataframe thead th {\n",
       "        text-align: right;\n",
       "    }\n",
       "</style>\n",
       "<table border=\"1\" class=\"dataframe\">\n",
       "  <thead>\n",
       "    <tr style=\"text-align: right;\">\n",
       "      <th></th>\n",
       "      <th>created_at</th>\n",
       "      <th>LT</th>\n",
       "      <th>LB</th>\n",
       "      <th>KT</th>\n",
       "      <th>KM</th>\n",
       "      <th>garasi</th>\n",
       "      <th>carport</th>\n",
       "      <th>lokasi</th>\n",
       "      <th>sertifikat</th>\n",
       "      <th>listrik</th>\n",
       "      <th>hadap</th>\n",
       "      <th>harga</th>\n",
       "      <th>URL</th>\n",
       "      <th>deskripsi</th>\n",
       "      <th>wilayah</th>\n",
       "    </tr>\n",
       "  </thead>\n",
       "  <tbody>\n",
       "    <tr>\n",
       "      <th>532</th>\n",
       "      <td>NaN</td>\n",
       "      <td>NaN</td>\n",
       "      <td>NaN</td>\n",
       "      <td>NaN</td>\n",
       "      <td>NaN</td>\n",
       "      <td>NaN</td>\n",
       "      <td>NaN</td>\n",
       "      <td>NaN</td>\n",
       "      <td>NaN</td>\n",
       "      <td>NaN</td>\n",
       "      <td>NaN</td>\n",
       "      <td>NaN</td>\n",
       "      <td>NaN</td>\n",
       "      <td>NaN</td>\n",
       "      <td>NaN</td>\n",
       "    </tr>\n",
       "    <tr>\n",
       "      <th>332</th>\n",
       "      <td>07-12-2021</td>\n",
       "      <td>700.0</td>\n",
       "      <td>2000.0</td>\n",
       "      <td>10.0</td>\n",
       "      <td>10.0</td>\n",
       "      <td>0.0</td>\n",
       "      <td>10.0</td>\n",
       "      <td>Jakarta Pusat</td>\n",
       "      <td>SHM</td>\n",
       "      <td>66000.0</td>\n",
       "      <td>Utara</td>\n",
       "      <td>1.050000e+11</td>\n",
       "      <td>https://www.rumah.com/listing-properti/dijual-...</td>\n",
       "      <td>- 2 menit ke Grand Indonesia (500 meter)\\n- 5 ...</td>\n",
       "      <td>Jakarta</td>\n",
       "    </tr>\n",
       "    <tr>\n",
       "      <th>353</th>\n",
       "      <td>05-12-2021</td>\n",
       "      <td>950.0</td>\n",
       "      <td>1400.0</td>\n",
       "      <td>6.0</td>\n",
       "      <td>4.0</td>\n",
       "      <td>7.0</td>\n",
       "      <td>0.0</td>\n",
       "      <td>Jakarta Selatan</td>\n",
       "      <td>SHM</td>\n",
       "      <td>23000.0</td>\n",
       "      <td>Not Given</td>\n",
       "      <td>4.900000e+10</td>\n",
       "      <td>https://rumahdijual.com/jakarta-selatan/955358...</td>\n",
       "      <td>Lantai 1 :\\n- 1 Living Room, Family Room, Dinn...</td>\n",
       "      <td>Jakarta</td>\n",
       "    </tr>\n",
       "    <tr>\n",
       "      <th>144</th>\n",
       "      <td>06-12-2021</td>\n",
       "      <td>1500.0</td>\n",
       "      <td>1200.0</td>\n",
       "      <td>8.0</td>\n",
       "      <td>6.0</td>\n",
       "      <td>0.0</td>\n",
       "      <td>8.0</td>\n",
       "      <td>Cileungsi</td>\n",
       "      <td>SHM</td>\n",
       "      <td>17600.0</td>\n",
       "      <td>Not Given</td>\n",
       "      <td>9.900000e+09</td>\n",
       "      <td>https://www.rumah.com/listing-properti/dijual-...</td>\n",
       "      <td>Akses mobil besar 40 ft bisa masuk, parkir mob...</td>\n",
       "      <td>Bogor</td>\n",
       "    </tr>\n",
       "    <tr>\n",
       "      <th>406</th>\n",
       "      <td>07-12-2021</td>\n",
       "      <td>640.0</td>\n",
       "      <td>1200.0</td>\n",
       "      <td>6.0</td>\n",
       "      <td>5.0</td>\n",
       "      <td>0.0</td>\n",
       "      <td>2.0</td>\n",
       "      <td>Jakarta Utara</td>\n",
       "      <td>SHM</td>\n",
       "      <td>9500.0</td>\n",
       "      <td>Not Given</td>\n",
       "      <td>3.900000e+10</td>\n",
       "      <td>https://www.rumah123.com/properti/jakarta-utar...</td>\n",
       "      <td>Rumah Mewah Rapi dan Luas dengan lebar 16x40=6...</td>\n",
       "      <td>Jakarta</td>\n",
       "    </tr>\n",
       "    <tr>\n",
       "      <th>...</th>\n",
       "      <td>...</td>\n",
       "      <td>...</td>\n",
       "      <td>...</td>\n",
       "      <td>...</td>\n",
       "      <td>...</td>\n",
       "      <td>...</td>\n",
       "      <td>...</td>\n",
       "      <td>...</td>\n",
       "      <td>...</td>\n",
       "      <td>...</td>\n",
       "      <td>...</td>\n",
       "      <td>...</td>\n",
       "      <td>...</td>\n",
       "      <td>...</td>\n",
       "      <td>...</td>\n",
       "    </tr>\n",
       "    <tr>\n",
       "      <th>176</th>\n",
       "      <td>07-12-2021</td>\n",
       "      <td>30.0</td>\n",
       "      <td>25.0</td>\n",
       "      <td>1.0</td>\n",
       "      <td>1.0</td>\n",
       "      <td>0.0</td>\n",
       "      <td>1.0</td>\n",
       "      <td>Cibinong</td>\n",
       "      <td>SHM</td>\n",
       "      <td>1300.0</td>\n",
       "      <td>Not Given</td>\n",
       "      <td>1.300000e+08</td>\n",
       "      <td>https://www.rumah.com/listing-properti/dijual-...</td>\n",
       "      <td>Lokasi strategis, keamanan 24 jam, arena berma...</td>\n",
       "      <td>Bogor</td>\n",
       "    </tr>\n",
       "    <tr>\n",
       "      <th>241</th>\n",
       "      <td>01-12-2021</td>\n",
       "      <td>66.0</td>\n",
       "      <td>24.0</td>\n",
       "      <td>1.0</td>\n",
       "      <td>1.0</td>\n",
       "      <td>0.0</td>\n",
       "      <td>1.0</td>\n",
       "      <td>Tenjo</td>\n",
       "      <td>SHM</td>\n",
       "      <td>1300.0</td>\n",
       "      <td>Not Given</td>\n",
       "      <td>1.680000e+08</td>\n",
       "      <td>https://www.rumah.com/listing-properti/dijual-...</td>\n",
       "      <td>Paling dekat ke stasiun dari pada perumahan-pe...</td>\n",
       "      <td>Bogor</td>\n",
       "    </tr>\n",
       "    <tr>\n",
       "      <th>244</th>\n",
       "      <td>01-12-2021</td>\n",
       "      <td>38.0</td>\n",
       "      <td>21.0</td>\n",
       "      <td>1.0</td>\n",
       "      <td>1.0</td>\n",
       "      <td>0.0</td>\n",
       "      <td>1.0</td>\n",
       "      <td>Bogor Barat</td>\n",
       "      <td>SHM</td>\n",
       "      <td>1300.0</td>\n",
       "      <td>Not Given</td>\n",
       "      <td>2.000000e+08</td>\n",
       "      <td>https://www.rumah.com/listing-properti/dijual-...</td>\n",
       "      <td>- Dekat RS. Medika\\n- Dekat RS. Karya Bhakti P...</td>\n",
       "      <td>Bogor</td>\n",
       "    </tr>\n",
       "    <tr>\n",
       "      <th>394</th>\n",
       "      <td>06-11-2021</td>\n",
       "      <td>36.0</td>\n",
       "      <td>21.0</td>\n",
       "      <td>1.0</td>\n",
       "      <td>1.0</td>\n",
       "      <td>0.0</td>\n",
       "      <td>1.0</td>\n",
       "      <td>Jakarta Utara</td>\n",
       "      <td>SHM</td>\n",
       "      <td>1300.0</td>\n",
       "      <td>Not Given</td>\n",
       "      <td>4.400000e+08</td>\n",
       "      <td>https://www.rumah.com/listing-properti/dijual-...</td>\n",
       "      <td>Rumah Murah Minimalis Jakarta Utara, Miniclust...</td>\n",
       "      <td>Jakarta</td>\n",
       "    </tr>\n",
       "    <tr>\n",
       "      <th>117</th>\n",
       "      <td>4-12-2021</td>\n",
       "      <td>100.0</td>\n",
       "      <td>15.0</td>\n",
       "      <td>3.0</td>\n",
       "      <td>3.0</td>\n",
       "      <td>1.0</td>\n",
       "      <td>1.0</td>\n",
       "      <td>Cinere</td>\n",
       "      <td>SHM</td>\n",
       "      <td>3500.0</td>\n",
       "      <td>Not Given</td>\n",
       "      <td>1.750000e+03</td>\n",
       "      <td>https://www.rumah123.com/properti/depok/hos928...</td>\n",
       "      <td>Dijual cepat rumah bagus siap huni</td>\n",
       "      <td>Depok</td>\n",
       "    </tr>\n",
       "  </tbody>\n",
       "</table>\n",
       "<p>663 rows × 15 columns</p>\n",
       "</div>"
      ],
      "text/plain": [
       "     created_at      LT      LB    KT    KM  garasi  carport           lokasi  \\\n",
       "532         NaN     NaN     NaN   NaN   NaN     NaN      NaN              NaN   \n",
       "332  07-12-2021   700.0  2000.0  10.0  10.0     0.0     10.0    Jakarta Pusat   \n",
       "353  05-12-2021   950.0  1400.0   6.0   4.0     7.0      0.0  Jakarta Selatan   \n",
       "144  06-12-2021  1500.0  1200.0   8.0   6.0     0.0      8.0        Cileungsi   \n",
       "406  07-12-2021   640.0  1200.0   6.0   5.0     0.0      2.0   Jakarta Utara    \n",
       "..          ...     ...     ...   ...   ...     ...      ...              ...   \n",
       "176  07-12-2021    30.0    25.0   1.0   1.0     0.0      1.0         Cibinong   \n",
       "241  01-12-2021    66.0    24.0   1.0   1.0     0.0      1.0            Tenjo   \n",
       "244  01-12-2021    38.0    21.0   1.0   1.0     0.0      1.0      Bogor Barat   \n",
       "394  06-11-2021    36.0    21.0   1.0   1.0     0.0      1.0   Jakarta Utara    \n",
       "117   4-12-2021   100.0    15.0   3.0   3.0     1.0      1.0           Cinere   \n",
       "\n",
       "    sertifikat  listrik      hadap         harga  \\\n",
       "532        NaN      NaN        NaN           NaN   \n",
       "332        SHM  66000.0      Utara  1.050000e+11   \n",
       "353        SHM  23000.0  Not Given  4.900000e+10   \n",
       "144        SHM  17600.0  Not Given  9.900000e+09   \n",
       "406        SHM   9500.0  Not Given  3.900000e+10   \n",
       "..         ...      ...        ...           ...   \n",
       "176        SHM   1300.0  Not Given  1.300000e+08   \n",
       "241        SHM   1300.0  Not Given  1.680000e+08   \n",
       "244        SHM   1300.0  Not Given  2.000000e+08   \n",
       "394        SHM   1300.0  Not Given  4.400000e+08   \n",
       "117        SHM   3500.0  Not Given  1.750000e+03   \n",
       "\n",
       "                                                   URL  \\\n",
       "532                                                NaN   \n",
       "332  https://www.rumah.com/listing-properti/dijual-...   \n",
       "353  https://rumahdijual.com/jakarta-selatan/955358...   \n",
       "144  https://www.rumah.com/listing-properti/dijual-...   \n",
       "406  https://www.rumah123.com/properti/jakarta-utar...   \n",
       "..                                                 ...   \n",
       "176  https://www.rumah.com/listing-properti/dijual-...   \n",
       "241  https://www.rumah.com/listing-properti/dijual-...   \n",
       "244  https://www.rumah.com/listing-properti/dijual-...   \n",
       "394  https://www.rumah.com/listing-properti/dijual-...   \n",
       "117  https://www.rumah123.com/properti/depok/hos928...   \n",
       "\n",
       "                                             deskripsi  wilayah  \n",
       "532                                                NaN      NaN  \n",
       "332  - 2 menit ke Grand Indonesia (500 meter)\\n- 5 ...  Jakarta  \n",
       "353  Lantai 1 :\\n- 1 Living Room, Family Room, Dinn...  Jakarta  \n",
       "144  Akses mobil besar 40 ft bisa masuk, parkir mob...    Bogor  \n",
       "406  Rumah Mewah Rapi dan Luas dengan lebar 16x40=6...  Jakarta  \n",
       "..                                                 ...      ...  \n",
       "176  Lokasi strategis, keamanan 24 jam, arena berma...    Bogor  \n",
       "241  Paling dekat ke stasiun dari pada perumahan-pe...    Bogor  \n",
       "244  - Dekat RS. Medika\\n- Dekat RS. Karya Bhakti P...    Bogor  \n",
       "394  Rumah Murah Minimalis Jakarta Utara, Miniclust...  Jakarta  \n",
       "117                 Dijual cepat rumah bagus siap huni    Depok  \n",
       "\n",
       "[663 rows x 15 columns]"
      ]
     },
     "execution_count": 83,
     "metadata": {},
     "output_type": "execute_result"
    }
   ],
   "source": [
    "df.sort_values(['LB','LT','harga'], ascending=[False,False, True]).where(df[\"sertifikat\"]!=\"Not Given\")\n"
   ]
  },
  {
   "cell_type": "markdown",
   "id": "b234f639",
   "metadata": {},
   "source": [
    "Rumah yang berada di wilayah Cileungsi dengan sertifikat SHM, luas tanah 1500 meter, luas bangunan 1200 meter, dengan 8 kamar tidur dan 6 kamar mandi, tidak terdapat garansi, dan carport sejumlah 8 buah  dengan harga 9,9 milliar menjadi rekomendasi yang pertama."
   ]
  },
  {
   "cell_type": "markdown",
   "id": "51a7579c",
   "metadata": {},
   "source": [
    "atau Rumah yang berada di wilayah Jakarta Utara dengan sertifikat SHM, luas tanah 640 meter, luas bangunan 1200 meter, dengan 6 kamar tidur dan 5 kamar mandi, tidak terdapat garansi, dan carport sejumlah 2 buah  dengan harga 3,9 miliar menjadi rekomendasi yang kedua."
   ]
  },
  {
   "cell_type": "markdown",
   "id": "2f3593b8",
   "metadata": {},
   "source": [
    "## 7"
   ]
  },
  {
   "cell_type": "code",
   "execution_count": 87,
   "id": "25d15ed7",
   "metadata": {},
   "outputs": [
    {
     "data": {
      "text/plain": [
       "<AxesSubplot:xlabel='listrik', ylabel='harga'>"
      ]
     },
     "execution_count": 87,
     "metadata": {},
     "output_type": "execute_result"
    },
    {
     "data": {
      "image/png": "[encoded data removed]",
      "text/plain": [
       "<Figure size 432x288 with 1 Axes>"
      ]
     },
     "metadata": {
      "needs_background": "light"
     },
     "output_type": "display_data"
    }
   ],
   "source": [
    "sns.scatterplot(x=\"listrik\",y=\"harga\",hue=\"wilayah\",data=df)"
   ]
  },
  {
   "cell_type": "markdown",
   "id": "6375f728",
   "metadata": {},
   "source": [
    "Harga bangunan meningkat seiring dengan harga bangunan, dengan kota jakarta merupakan daerah dengan kualitas tertinggi untuk biaya dan listrik"
   ]
  },
  {
   "cell_type": "code",
   "execution_count": 85,
   "id": "21f3e921",
   "metadata": {},
   "outputs": [
    {
     "name": "stderr",
     "output_type": "stream",
     "text": [
      "c:\\Users\\BN001719195\\Anaconda3\\lib\\site-packages\\seaborn\\categorical.py:1296: UserWarning: 25.0% of the points cannot be placed; you may want to decrease the size of the markers or use stripplot.\n",
      "  warnings.warn(msg, UserWarning)\n",
      "c:\\Users\\BN001719195\\Anaconda3\\lib\\site-packages\\seaborn\\categorical.py:1296: UserWarning: 46.3% of the points cannot be placed; you may want to decrease the size of the markers or use stripplot.\n",
      "  warnings.warn(msg, UserWarning)\n",
      "c:\\Users\\BN001719195\\Anaconda3\\lib\\site-packages\\seaborn\\categorical.py:1296: UserWarning: 85.7% of the points cannot be placed; you may want to decrease the size of the markers or use stripplot.\n",
      "  warnings.warn(msg, UserWarning)\n",
      "c:\\Users\\BN001719195\\Anaconda3\\lib\\site-packages\\seaborn\\categorical.py:1296: UserWarning: 13.3% of the points cannot be placed; you may want to decrease the size of the markers or use stripplot.\n",
      "  warnings.warn(msg, UserWarning)\n"
     ]
    },
    {
     "data": {
      "text/plain": [
       "<seaborn.axisgrid.FacetGrid at 0x20f42417e20>"
      ]
     },
     "execution_count": 85,
     "metadata": {},
     "output_type": "execute_result"
    },
    {
     "data": {
      "image/png": "[encoded data removed]",
      "text/plain": [
       "<Figure size 1168.38x360 with 1 Axes>"
      ]
     },
     "metadata": {
      "needs_background": "light"
     },
     "output_type": "display_data"
    }
   ],
   "source": [
    "sns.catplot(x=\"sertifikat\",y=\"harga\",kind=\"swarm\",data=df,aspect=3,hue=\"wilayah\",palette=\"Set2\")"
   ]
  },
  {
   "cell_type": "markdown",
   "id": "b3bf8f81",
   "metadata": {},
   "source": [
    "Terlihat bahwa paling banyak orang menjual rumah dengan sertifikat SHM, dengan harga paling tinggi pada sertifikat SHM"
   ]
  },
  {
   "cell_type": "markdown",
   "id": "25b1df4a",
   "metadata": {},
   "source": [
    "Secara Umum, kami paling menyarankan RPPI melakukan pembelian pada rumah dengan sertifikat SHM. Perlu dipastikan bahwa sertifikat dari penjual sudah valid dan bisa digunakan, dan dengan daerah wilayah Jakarta menjadi wilayah terbaik untuk melakukan pembelian bangunan untuk kemudian dijual."
   ]
  }
 ],
 "metadata": {
  "kernelspec": {
   "display_name": "Python 3.9.12 ('base')",
   "language": "python",
   "name": "python3"
  },
  "language_info": {
   "codemirror_mode": {
    "name": "ipython",
    "version": 3
   },
   "file_extension": ".py",
   "mimetype": "text/x-python",
   "name": "python",
   "nbconvert_exporter": "python",
   "pygments_lexer": "ipython3",
   "version": "3.9.12"
  },
  "vscode": {
   "interpreter": {
    "hash": "51ac3c46a16ae4038f1e0ead425d43aa18b22d14b9d786959fbd54f7a14288fc"
   }
  }
 },
 "nbformat": 4,
 "nbformat_minor": 5
}
